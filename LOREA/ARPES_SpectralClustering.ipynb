{
 "cells": [
  {
   "cell_type": "markdown",
   "metadata": {},
   "source": [
    "# ARPES Spectral Clustering - Methodology Pipeline\n",
    "## A pipeline for data visualization of 2D mappings using PCA for data reduction and spectral clustering.\n",
    "#### Authors: Marc Raventós (mraventos@cells.es), Joaquín Otón (joton@cells.es)\n"
   ]
  },
  {
   "cell_type": "code",
   "execution_count": null,
   "metadata": {},
   "outputs": [],
   "source": [
    "# Location of the .nxs file to process\n",
    "file_location = ''"
   ]
  },
  {
   "cell_type": "code",
   "execution_count": null,
   "metadata": {},
   "outputs": [],
   "source": [
    "import os\n",
    "\n",
    "import h5py\n",
    "import numpy as np\n",
    "import matplotlib.pyplot as plt\n",
    "from mpl_toolkits.axes_grid1 import make_axes_locatable\n",
    "\n",
    "from sklearn import decomposition\n",
    "from sklearn.cluster import SpectralClustering\n",
    "\n",
    "import plotly.graph_objects as go\n",
    "from plotly.offline import plot"
   ]
  },
  {
   "cell_type": "code",
   "execution_count": null,
   "metadata": {},
   "outputs": [],
   "source": [
    "working_directory = os.getcwd()\n",
    "file_name = os.path.basename(file_location).rstrip(\".nxs\")\n",
    "output_directory = os.path.join(working_directory,f'output_{file_name}') \n",
    "if not os.path.exists(output_directory):\n",
    "    os.makedirs(output_directory)\n",
    "\n",
    "file = h5py.File(file_location)\n",
    "data = file['entry1/data/data'][...]\n",
    "\n",
    "realdimx, realdimy, arpesdimx, arpesdimy = data.shape"
   ]
  },
  {
   "cell_type": "code",
   "execution_count": null,
   "metadata": {},
   "outputs": [],
   "source": [
    "flattened_real = data.reshape(-1,arpesdimx,arpesdimy)\n",
    "flattened_arpes =  data.reshape(realdimx,realdimy,-1)\n",
    "flattened_all = flattened_arpes.reshape(realdimx*realdimy,-1)"
   ]
  },
  {
   "cell_type": "code",
   "execution_count": null,
   "metadata": {},
   "outputs": [],
   "source": [
    "data.shape"
   ]
  },
  {
   "cell_type": "code",
   "execution_count": null,
   "metadata": {},
   "outputs": [],
   "source": [
    "std_image = flattened_real.std(0)\n",
    "fig, ax = plt.subplots(figsize=(9, 9))\n",
    "im = ax.imshow(std_image,vmax=std_image.max()*0.4)\n",
    "ax.set_title('Standard deviation image: ARPES space')\n",
    "ax.set_xticks([]), ax.set_yticks([]) \n",
    "# Create a divider for the axis to align the colorbar\n",
    "divider = make_axes_locatable(ax)\n",
    "cax = divider.append_axes(\"right\", size=\"5%\", pad=0.1)\n",
    "\n",
    "# Add colorbar to the aligned axis\n",
    "cbar = fig.colorbar(im, cax=cax)\n",
    "cbar.ax.set_ylabel('Standard Deviation')\n",
    "\n",
    "plt.tight_layout(pad=0.5)\n",
    "plt.savefig(os.path.join(output_directory,'std_deviation_arpes_space.png'),dpi=600, bbox_inches='tight')\n",
    "plt.show()\n"
   ]
  },
  {
   "cell_type": "code",
   "execution_count": null,
   "metadata": {},
   "outputs": [],
   "source": [
    "std_image = flattened_arpes.std(-1)\n",
    "fig, ax = plt.subplots(figsize=(9, 9))\n",
    "im = ax.imshow(std_image.T)\n",
    "ax.set_xticks([]), ax.set_yticks([]) \n",
    "ax.set_title('Standard deviation image: Real space')\n",
    "\n",
    "# Create a divider for the axis to align the colorbar\n",
    "divider = make_axes_locatable(ax)\n",
    "cax = divider.append_axes(\"right\", size=\"5%\", pad=0.1)\n",
    "\n",
    "# Add colorbar to the aligned axis\n",
    "cbar = fig.colorbar(im, cax=cax)\n",
    "cbar.ax.set_ylabel('Standard Deviation')\n",
    "\n",
    "plt.tight_layout(pad=0.5)\n",
    "plt.savefig(os.path.join(output_directory,'std_deviation_real_space.png'),dpi=600, bbox_inches='tight')\n",
    "plt.show()\n"
   ]
  },
  {
   "cell_type": "markdown",
   "metadata": {},
   "source": [
    "We define 2 special interest regions from the data so we can analyze later the result of the clustering"
   ]
  },
  {
   "cell_type": "code",
   "execution_count": null,
   "metadata": {},
   "outputs": [],
   "source": [
    "data.shape"
   ]
  },
  {
   "cell_type": "code",
   "execution_count": null,
   "metadata": {},
   "outputs": [],
   "source": [
    "pca = decomposition.PCA(n_components=200)\n",
    "X_pca = pca.fit_transform(flattened_all)\n",
    "\n",
    "# Plot cumulative explained variance\n",
    "plt.figure(figsize=(8, 5))\n",
    "plt.plot(range(1, len(pca.explained_variance_ratio_) + 1),\n",
    "         np.cumsum(pca.explained_variance_ratio_),\n",
    "         marker='o', linestyle='--', color='b')\n",
    "\n",
    "plt.xlabel('Number of Components')\n",
    "plt.ylabel('Cumulative Explained Variance')\n",
    "plt.title('PCA Explained Variance')\n",
    "plt.xticks(range(1, len(pca.explained_variance_ratio_) + 1))  # Ensure integer x-axis ticks\n",
    "plt.grid(True)\n",
    "\n",
    "# Save the figure\n",
    "plt.savefig(os.path.join(output_directory,'pca_variance.png'))\n",
    "plt.show()\n",
    "\n",
    "X_pca.shape"
   ]
  },
  {
   "cell_type": "code",
   "execution_count": null,
   "metadata": {},
   "outputs": [],
   "source": [
    "# Number of components to visualize\n",
    "n = 3  # Change this to the number of components you want to visualize\n",
    "\n",
    "# Define subplot layout\n",
    "n_cols = 3\n",
    "n_rows = (n + n_cols - 1) // n_cols  # Calculate rows needed for n components\n",
    "\n",
    "# Create figure\n",
    "fig, axes = plt.subplots(3, 1, figsize=(9, 9 * n_rows))\n",
    "axes = axes.flatten()\n",
    "\n",
    "for i in range(n):\n",
    "    # Reshape each component to 21x12\n",
    "    component_image = X_pca[:, i].reshape(realdimx,realdimy).T\n",
    "    \n",
    "    # Plot the component\n",
    "    im = axes[i].imshow(component_image, cmap='viridis')\n",
    "    axes[i].set_title(f'Principal Component {i + 1}')\n",
    "    axes[i].axis('off')\n",
    "    \n",
    "    # Add a colorbar\n",
    "    fig.colorbar(im, ax=axes[i], fraction=0.046, pad=0.04)\n",
    "\n",
    "# Hide any unused subplots\n",
    "for i in range(n, len(axes)):\n",
    "    axes[i].axis('off')\n",
    "\n",
    "plt.tight_layout()\n",
    "plt.show()"
   ]
  },
  {
   "cell_type": "code",
   "execution_count": null,
   "metadata": {},
   "outputs": [],
   "source": [
    "clustering = SpectralClustering(n_clusters=6,affinity='nearest_neighbors',assign_labels='cluster_qr')\n",
    "labels_row = clustering.fit_predict(X_pca[:, :3])\n",
    "sorted_labels = np.argsort([X_pca[labels_row == l].mean(axis=0)[0] for l in np.unique(labels_row)])\n",
    "label_mapping = {old: new for new, old in enumerate(np.unique(labels_row)[sorted_labels])}\n",
    "labels = np.vectorize(label_mapping.get)(labels_row)\n",
    "\n",
    "\n",
    "labels_image = labels.reshape(realdimx, realdimy)\n"
   ]
  },
  {
   "cell_type": "code",
   "execution_count": null,
   "metadata": {},
   "outputs": [],
   "source": [
    "# Standard deviation image\n",
    "std_image = flattened_arpes.std(-1)\n",
    "fig, axes = plt.subplots(2, 1, figsize=(9, 9))  # Two rows, one column\n",
    "\n",
    "# Plot the standard deviation image\n",
    "ax1 = axes[0]\n",
    "im1 = ax1.imshow(std_image.T, cmap='viridis')  # You can customize the colormap\n",
    "ax1.set_xticks([]), ax1.set_yticks([]) \n",
    "ax1.set_title('Standard Deviation Image: Real Space')\n",
    "\n",
    "# Create a divider for the axis to align the colorbar\n",
    "divider1 = make_axes_locatable(ax1)\n",
    "cax1 = divider1.append_axes(\"right\", size=\"5%\", pad=0.1)\n",
    "\n",
    "# Add colorbar to the aligned axis\n",
    "cbar1 = fig.colorbar(im1, cax=cax1)\n",
    "cbar1.ax.set_ylabel('Standard Deviation')\n",
    "\n",
    "# Plot the labels image\n",
    "ax2 = axes[1]\n",
    "im2 = ax2.imshow(labels_image.T)  # Customize colormap for categorical data\n",
    "ax2.set_title('Cluster Labels')\n",
    "ax2.set_xticks([]), ax2.set_yticks([]) \n",
    "# Create a divider for the axis to align the colorbar\n",
    "divider2 = make_axes_locatable(ax2)\n",
    "cax2 = divider2.append_axes(\"right\", size=\"5%\", pad=0.1)\n",
    "\n",
    "# Add colorbar to the aligned axis\n",
    "cbar2 = fig.colorbar(im2, cax=cax2)\n",
    "cbar2.ax.set_ylabel('Cluster Label')\n",
    "\n",
    "# Adjust layout\n",
    "plt.tight_layout(pad=2.0)\n",
    "plt.savefig(os.path.join(output_directory,'combined_std_and_labels_with_colorbars.png'), dpi=600, bbox_inches='tight')\n",
    "plt.show()\n"
   ]
  },
  {
   "cell_type": "code",
   "execution_count": null,
   "metadata": {},
   "outputs": [],
   "source": [
    "# Create a 3D scatter plot with color based on cluster labels\n",
    "fig = go.Figure(data=[go.Scatter3d(\n",
    "    x=X_pca[:, 0], \n",
    "    y=X_pca[:, 1], \n",
    "    z=X_pca[:, 2], \n",
    "    mode='markers',\n",
    "    marker=dict(\n",
    "        size=5,\n",
    "        color=labels,  # Color based on cluster labels\n",
    "        colorscale='Viridis',  # Choose a colorscale\n",
    "        opacity=0.8,\n",
    "        colorbar=dict(title=\"Cluster Label\")  # Add colorbar title\n",
    "    )\n",
    ")])\n",
    "\n",
    "# Add axis labels\n",
    "fig.update_layout(\n",
    "    scene=dict(\n",
    "        xaxis_title='Principal Component 1',\n",
    "        yaxis_title='Principal Component 2',\n",
    "        zaxis_title='Principal Component 3'\n",
    "    ),\n",
    "    title='3D PCA Scatter Plot',\n",
    "    margin=dict(l=0, r=0, b=0, t=40)  # Adjust margins for better layout\n",
    ")\n",
    "\n",
    "# Plot the figure in a separate window\n",
    "plot(fig, auto_open=True, filename=os.path.join(output_directory,'3d_scatter_plot.html'))\n"
   ]
  },
  {
   "cell_type": "code",
   "execution_count": null,
   "metadata": {},
   "outputs": [],
   "source": [
    "plt.figure(figsize=(9, 9))\n",
    "plt.suptitle('Summed up signals of the clusters')\n",
    "\n",
    "for i in range(labels.max() + 1):\n",
    "    plt.subplot(3, 2, i + 1)\n",
    "    image_to_plot = data[labels_image == i, :, :].sum(axis=0)\n",
    "    plt.imshow(image_to_plot,vmax=image_to_plot.max()*0.4)\n",
    "    plt.title(f'Cluster label {i}')\n",
    "    \n",
    "    # Remove x and y ticks\n",
    "    plt.xticks([])\n",
    "    plt.yticks([])\n",
    "\n",
    "# Adjust layout after all plots are created\n",
    "plt.tight_layout()\n",
    "\n",
    "# Save figure once, not inside the loop\n",
    "plt.savefig(os.path.join(output_directory,'cluster_label_signals.png'), dpi=600, bbox_inches='tight')\n",
    "\n",
    "plt.show()\n"
   ]
  }
 ],
 "metadata": {
  "kernelspec": {
   "display_name": "Python 3",
   "language": "python",
   "name": "python3"
  },
  "language_info": {
   "codemirror_mode": {
    "name": "ipython",
    "version": 3
   },
   "file_extension": ".py",
   "mimetype": "text/x-python",
   "name": "python",
   "nbconvert_exporter": "python",
   "pygments_lexer": "ipython3",
   "version": "3.11.2"
  }
 },
 "nbformat": 4,
 "nbformat_minor": 4
}
